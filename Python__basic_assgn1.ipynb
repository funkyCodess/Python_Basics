{
  "nbformat": 4,
  "nbformat_minor": 0,
  "metadata": {
    "colab": {
      "provenance": []
    },
    "kernelspec": {
      "name": "python3",
      "display_name": "Python 3"
    },
    "language_info": {
      "name": "python"
    }
  },
  "cells": [
    {
      "cell_type": "markdown",
      "source": [
        "# Python Basics Questions"
      ],
      "metadata": {
        "id": "vjgpNySnl-p8"
      }
    },
    {
      "cell_type": "markdown",
      "source": [
        "1. What is Python, and why is it popular?\n",
        "  - Python is a popular high-level programming language, which designed for its simplicity, readability, versatility. Python is widely used for various applications, includig web dev, Ai, automation and more.\n",
        "\n",
        "  **Key features which make it popular-**\n",
        "    - A lot of libraries/ Active communities\n",
        "    - it is easy to learn\n",
        "    - General purpose programming language\n",
        "    - pyhton allows integrations to integrate frontend with backend."
      ],
      "metadata": {
        "id": "A_cwQHk-md1o"
      }
    },
    {
      "cell_type": "markdown",
      "source": [
        "2-  What is an interpreter in Python?\n",
        "  -  Interpreter in python is a software program that reads and execute Python\n",
        "     code line by line. it help to convert code in to machine language before execution, the interpreter translates python code in machine instruction in runtime.\n",
        "\n",
        "  we can use interpreter in two ways:-\n",
        "\n",
        "     -Interactive Mode: type and run code directly in a terminal or python shell.\n",
        "     \n",
        "     -Script Mode: save a code in a file (like example.py) and let the interpreter run it.\n"
      ],
      "metadata": {
        "id": "yzJRFpkefxwr"
      }
    },
    {
      "cell_type": "markdown",
      "source": [],
      "metadata": {
        "id": "bkorPttNfxvB"
      }
    },
    {
      "cell_type": "markdown",
      "source": [
        "3- What are pre-defined keywords in Python?\n",
        "  - predefined keyword in python are reserved word with specific meaning used to define the syntax and structure of the language. these keyword can not be used as a identifiers.\n",
        "\n",
        "  **list of python keywords are-**\n",
        "  -if, else, for, while, true, false, import, return, with, yield, try, raise, pass, or, not, lambda, is, in, from."
      ],
      "metadata": {
        "id": "gk0EmF9PlGQS"
      }
    },
    {
      "cell_type": "markdown",
      "source": [
        "4- Can keywords be used as variable names?\n",
        "\n",
        "  -No, keywords can not be used as a variable name in Python because they are reserved words with predefined meaning in the langauge's syntax. For ex, using if, while, or true as variable names will result in a **SyntaxError**.  "
      ],
      "metadata": {
        "id": "6AuV4GkWqyoV"
      }
    },
    {
      "cell_type": "markdown",
      "source": [
        "5- What is mutability in Python?\n",
        "  \n",
        "   - Mutability in Python refers to whether an object's value can be changed after it is created.\n",
        "\n",
        "   - Mutable objects allow in-place changes, which can be efficient but may lead to unintended side effects.\n",
        "\n",
        "   **Mutable objects* :-\n",
        "\n",
        "      - Lists (list)\n",
        "\n",
        "      - Dictionaries (dict)\n",
        "\n",
        "      - Sets (set)\n",
        "\n",
        "\n",
        "  \n",
        "\n"
      ],
      "metadata": {
        "id": "Mg5foLuisreO"
      }
    },
    {
      "cell_type": "code",
      "source": [
        "my_list = [1, 4, 6]\n",
        "my_list[0] = 2\n",
        "print(my_list)"
      ],
      "metadata": {
        "id": "DvLxOrTVmYoz",
        "colab": {
          "base_uri": "https://localhost:8080/"
        },
        "outputId": "c3e45f6b-fd2d-44c5-c95b-260ac00749e0"
      },
      "execution_count": null,
      "outputs": [
        {
          "output_type": "stream",
          "name": "stdout",
          "text": [
            "[2, 4, 6]\n"
          ]
        }
      ]
    },
    {
      "cell_type": "markdown",
      "source": [
        "6- Why are lists mutable, but tuples are immutable?\n",
        "\n",
        "1.   **List(Mutable)** :-\n",
        "      - list are designed for dynamic and flexible data\n",
        "      storage. and they allow modification.\n",
        "\n",
        "      - Being mutable ,list need extra overhead to manage dynamic changes. and this makes lists slightly slower whrn compared to tuples for certain operations like iteration."
      ],
      "metadata": {
        "id": "vHElUigyw4Xq"
      }
    },
    {
      "cell_type": "code",
      "source": [
        "my_list = [1, 2, 3, 4]\n",
        "my_list.append(5)\n",
        "my_list[0] = 10\n",
        "print(my_list)"
      ],
      "metadata": {
        "colab": {
          "base_uri": "https://localhost:8080/"
        },
        "id": "N4VZwB3X80Hv",
        "outputId": "2368769a-67bb-4d39-bd41-4238d6001fbf"
      },
      "execution_count": null,
      "outputs": [
        {
          "output_type": "stream",
          "name": "stdout",
          "text": [
            "[10, 2, 3, 4, 5]\n"
          ]
        }
      ]
    },
    {
      "cell_type": "markdown",
      "source": [
        "2.   **Tuples (Immutable)**\n",
        "\n",
        "    - Tuples are designed for static collections of data that should not be changed after creation.\n",
        "\n",
        "    - since tuples are immutable , they are generally faster and consume less memory. and tuples used for fixed data that shouldn't change like coordinates or configuration settings.\n",
        "\n"
      ],
      "metadata": {
        "id": "l6X8DFnz9Edu"
      }
    },
    {
      "cell_type": "code",
      "source": [
        "my_tuple = (1, 2, 3)\n",
        "\n",
        "print(my_tuple)"
      ],
      "metadata": {
        "colab": {
          "base_uri": "https://localhost:8080/"
        },
        "id": "63KNnYw6-bRe",
        "outputId": "4f8f6aea-e3ce-40d2-e74b-760f3e60aa59"
      },
      "execution_count": null,
      "outputs": [
        {
          "output_type": "stream",
          "name": "stdout",
          "text": [
            "(1, 2, 3)\n"
          ]
        }
      ]
    },
    {
      "cell_type": "markdown",
      "source": [
        "7 -  What is the difference between “==” and “is” operators in Python ?\n",
        "\n",
        "  \n",
        "1.   **== (Equality operator)** :-  \n",
        "\n",
        "       - It compares the values of two objects to check if they are equal.\n",
        "       \n",
        "       - Equality operator used when you want to know if two variables hold the same data.\n",
        "       ex- a = [1, 2, 3]\n",
        "           b = [1, 2, 3]\n",
        "           print(a == b)\n",
        "\n",
        "2.   **is (Identity operator)** :-  \n",
        "\n",
        "    - It compares thr identities of two objects to check if they refers to the same object in memory.\n",
        "    \n",
        "    - this operator is used when you want to check if two variables point to the same memory location.\n",
        "     ex- a = [1, 2, 3]\n",
        "         b = [1, 2, 3]\n",
        "         print(a is b)\n",
        "\n",
        "\n",
        "\n"
      ],
      "metadata": {
        "id": "-BxdkhXbAf6F"
      }
    },
    {
      "cell_type": "markdown",
      "source": [
        "8 -  What are logical operators in Python ?\n",
        "\n",
        "  - Logical operators in python are used to combine conditional statements and return a boolean value (T/F).\n",
        "\n",
        "  - these operators are typically used in control flow statements like if, while, and assert.\n"
      ],
      "metadata": {
        "id": "qn5jXqSLEY-Y"
      }
    },
    {
      "cell_type": "markdown",
      "source": [],
      "metadata": {
        "id": "EGr160QaxQZN"
      }
    },
    {
      "cell_type": "code",
      "source": [
        "x = 6\n",
        "y = 4\n",
        "\n",
        "# AND operator\n",
        "print(x > 5 and y < 10)\n",
        "# OR operator\n",
        "print(x > 5 or y > 10)\n",
        "# NOT operator\n",
        "print(not (x > 5))"
      ],
      "metadata": {
        "colab": {
          "base_uri": "https://localhost:8080/"
        },
        "id": "UyiLm8bJFrCQ",
        "outputId": "c0a4b884-f61d-47fb-867a-635d4072a3a3"
      },
      "execution_count": null,
      "outputs": [
        {
          "output_type": "stream",
          "name": "stdout",
          "text": [
            "True\n",
            "True\n",
            "False\n"
          ]
        }
      ]
    },
    {
      "cell_type": "markdown",
      "source": [
        "9 -  What is type casting in Python ?\n",
        "   \n",
        "   - Type Casting is the process of converting a variable from one data type to another. python  provide built-in fuctions for explicit type conversion.\n",
        "\n",
        "   - there are two types of type casting - \"Implicit type casting\" , \"Explicit type casting\".\n",
        "\n",
        "   - Type casting can be implicit ( done by python) or explicit (done by programmer).\n",
        "\n",
        "   - Explicit casting must br used cautiously to avoid data loss or error."
      ],
      "metadata": {
        "id": "p3H_zTegF-2k"
      }
    },
    {
      "cell_type": "markdown",
      "source": [
        "10 - What is the difference between implicit and explicit type casting?\n",
        "\n",
        "\n",
        "1.   **Implicit Type Casting** :-  \n",
        "\n",
        "    - Definition: Conversion is done automatically by Python without programmer intervention.\n",
        "\n",
        "    - Python converts a smaller data type (e.g., int) to a larger data type (e.g., float) to prevent data loss.\n",
        "\n",
        "\n",
        "\n"
      ],
      "metadata": {
        "id": "BoS7KWouIOXX"
      }
    },
    {
      "cell_type": "code",
      "source": [
        "a = 10\n",
        "b = 3.14\n",
        "c = a + b\n",
        "print(c)\n",
        "print(type(c))\n"
      ],
      "metadata": {
        "colab": {
          "base_uri": "https://localhost:8080/"
        },
        "id": "qvEHK8L8T5aC",
        "outputId": "662935c1-d95c-4c73-b6ac-5383ec9f02e9"
      },
      "execution_count": null,
      "outputs": [
        {
          "output_type": "stream",
          "name": "stdout",
          "text": [
            "13.14\n",
            "<class 'float'>\n"
          ]
        }
      ]
    },
    {
      "cell_type": "markdown",
      "source": [
        "2.   **Explicit Type Casting** :-  \n",
        "\n",
        "  - Definition: Conversion is done manually by the programmer using Python's built-in functions.\n",
        "\n",
        "  - We Used when we need to intentionally change a data type (e.g., from float to int).\n",
        "\n",
        "\n",
        "\n"
      ],
      "metadata": {
        "id": "NWg3kWhgULrM"
      }
    },
    {
      "cell_type": "code",
      "source": [
        "a = 10\n",
        "b = 3.14\n",
        "c = a + int(b)\n",
        "print(c)\n",
        "print(type(c))\n"
      ],
      "metadata": {
        "colab": {
          "base_uri": "https://localhost:8080/"
        },
        "id": "OKxn9IhtUK0p",
        "outputId": "23f50900-f567-4263-9537-68e45ff96af3"
      },
      "execution_count": null,
      "outputs": [
        {
          "output_type": "stream",
          "name": "stdout",
          "text": [
            "13\n",
            "<class 'int'>\n"
          ]
        }
      ]
    },
    {
      "cell_type": "markdown",
      "source": [
        "11 - What is the purpose of conditional statements in Python ?\n",
        "\n",
        "  - **Purpose of Conditional Statements in Python** :-  \n",
        "   \n",
        "   The purpose of conditional statements in Python is to allow the program to make decisions and execute specific blocks of code based on whether a condition is True or False. They enable dynamic and logical control of the program's flow.\n",
        "\n",
        "\n",
        "1. Decision Making: To perform different actions based on different conditions.\n",
        "\n",
        "\n",
        "2. Control Flow: To control which parts of the code are executed and which are skipped.\n",
        "\n",
        "\n",
        "3. Dynamic Behavior: To make the program adapt to varying inputs or scenarios."
      ],
      "metadata": {
        "id": "PJghkuxOXjbC"
      }
    },
    {
      "cell_type": "markdown",
      "source": [
        "12 -  How does the elif statement work ?\n",
        "\n",
        "  - The elif (short for \"else if\") statement in Python is used to check multiple conditions in a sequential manner. It allows you to test additional conditions if the initial if condition is False. Once a condition evaluates to True, the corresponding block of code is executed, and the rest of the conditions are skipped.\n",
        "\n",
        "\n",
        "  - **Syntax of elif** :-\n",
        "\n",
        "  if condition1:\n",
        "\n",
        "       #Code to execute if condition1 is True\n",
        "\n",
        "  elif condition2:\n",
        "\n",
        "       #Code to execute if condition2 is True\n",
        "\n",
        "  elif condition3:\n",
        "\n",
        "      #Code to execute if condition3 is True\n",
        "\n",
        "  else:\n",
        "\n",
        "       #Code to execute if none of the above conditions are True\n",
        "\n",
        "\n",
        "\n",
        "\n"
      ],
      "metadata": {
        "id": "URhQFuiJZn3d"
      }
    },
    {
      "cell_type": "markdown",
      "source": [
        "13 -  What is the difference between for and while loops ?\n",
        "\n",
        "   - In python both for and while loops are used to execute a block of code multiple times, but they differ in thier purpose and how they operate.\n",
        "\n",
        "   **For loop** :-  \n",
        "    - used when the number of iterations is know or a sequence needs to be iterated over ex- list, range, string).\n",
        "\n",
        "    - It iterates over items of a sequence or range.\n",
        "\n",
        "    - its not explicitly required the loop ends when the sequence is exhausted."
      ],
      "metadata": {
        "id": "tkk8bU8oc6sc"
      }
    },
    {
      "cell_type": "code",
      "source": [
        "# Iterating over a range\n",
        "for i in range(5):\n",
        "\n",
        "  print(\"Iteration:\", i)\n",
        "\n",
        "# Iterating over a list\n",
        "fruits = ['apple', 'banana', 'cherry']\n",
        "for fruit in fruits:\n",
        "  print(fruit)"
      ],
      "metadata": {
        "colab": {
          "base_uri": "https://localhost:8080/"
        },
        "id": "vmjNhFoLCaIw",
        "outputId": "a3f347a8-e8f2-497b-e92e-9740af849f72"
      },
      "execution_count": 1,
      "outputs": [
        {
          "output_type": "stream",
          "name": "stdout",
          "text": [
            "Iteration: 0\n",
            "Iteration: 1\n",
            "Iteration: 2\n",
            "Iteration: 3\n",
            "Iteration: 4\n",
            "apple\n",
            "banana\n",
            "cherry\n"
          ]
        }
      ]
    },
    {
      "cell_type": "markdown",
      "source": [
        " **While loop** :-  \n",
        "\n",
        "   - It used when the number of iterations is not known and depends on a condition being met.\n",
        "\n",
        "   - It repeats as long as a specified condition is True.\n",
        "\n",
        "   -  Its running a block of code until a certain condition changes, such as waitng for user input or calculations."
      ],
      "metadata": {
        "id": "Ec-ApYSMDZRR"
      }
    },
    {
      "cell_type": "code",
      "source": [
        "# Run while condition is True\n",
        "count = 0\n",
        "while count < 5:\n",
        "  print(\"Count:\", count)\n",
        "  count += 1"
      ],
      "metadata": {
        "colab": {
          "base_uri": "https://localhost:8080/"
        },
        "id": "bKVhmhtyF0KB",
        "outputId": "cc343d5d-e102-4674-de15-af2074af4a4b"
      },
      "execution_count": 2,
      "outputs": [
        {
          "output_type": "stream",
          "name": "stdout",
          "text": [
            "Count: 0\n",
            "Count: 1\n",
            "Count: 2\n",
            "Count: 3\n",
            "Count: 4\n"
          ]
        }
      ]
    },
    {
      "cell_type": "markdown",
      "source": [
        "14 - Describe a scenario where a while loop is more suitable than a for loop ?\n",
        "\n",
        " -  A while loop is more suitable than a for loop when the number of iterations is not predetermined and depends on a condition being met.\n",
        "\n",
        " - **Scenerio** - a program where a user has to input the correct password to log in. The number of attempts is unknown in advance, but the loop should continue until the correct password is entered or a maximum number of attempts is reached.\n",
        "\n",
        " - A for loop would not be as effective because it is typically used for a predetermined number of iterations or iterating over a sequence. In this case, the number of iterations depends on the user's actions, making a while loop the better choice.\n"
      ],
      "metadata": {
        "id": "MigA7y10c6hC"
      }
    },
    {
      "cell_type": "markdown",
      "source": [
        "# Practical Questions"
      ],
      "metadata": {
        "id": "EwRkcOX6Ihmj"
      }
    },
    {
      "cell_type": "code",
      "source": [
        "# 1. Print \"Hello, World!\"\n",
        "\n",
        "print(\"Hello, World!\")\n"
      ],
      "metadata": {
        "id": "m9QzRyK4ZgJC",
        "colab": {
          "base_uri": "https://localhost:8080/"
        },
        "outputId": "da9b68fe-09b2-45c0-bb7a-f36aea5744f3"
      },
      "execution_count": 3,
      "outputs": [
        {
          "output_type": "stream",
          "name": "stdout",
          "text": [
            "Hello, World!\n"
          ]
        }
      ]
    },
    {
      "cell_type": "code",
      "source": [
        "# 2. Display Your Name and Age\n",
        "\n",
        "name = \"Sneha Trivedi\"\n",
        "age = 23\n",
        "print(f\"My name is {name} and I am {age} years old.\")\n"
      ],
      "metadata": {
        "colab": {
          "base_uri": "https://localhost:8080/"
        },
        "id": "ojYYTZasKXXJ",
        "outputId": "497c062f-2b6e-452b-8891-e43bee6b8a60"
      },
      "execution_count": 6,
      "outputs": [
        {
          "output_type": "stream",
          "name": "stdout",
          "text": [
            "My name is Sneha Trivedi and I am 23 years old.\n"
          ]
        }
      ]
    },
    {
      "cell_type": "code",
      "source": [
        "# 3. Print All Pre-defined Keywords in Python\n",
        "\n",
        "import keyword\n",
        "\n",
        "print(\"Python keywords are:\")\n",
        "print(keyword.kwlist)\n"
      ],
      "metadata": {
        "colab": {
          "base_uri": "https://localhost:8080/"
        },
        "id": "D0DltUw-KwOq",
        "outputId": "d0db9569-a90b-47c5-d8d5-edad4a1a5464"
      },
      "execution_count": 7,
      "outputs": [
        {
          "output_type": "stream",
          "name": "stdout",
          "text": [
            "Python keywords are:\n",
            "['False', 'None', 'True', 'and', 'as', 'assert', 'async', 'await', 'break', 'class', 'continue', 'def', 'del', 'elif', 'else', 'except', 'finally', 'for', 'from', 'global', 'if', 'import', 'in', 'is', 'lambda', 'nonlocal', 'not', 'or', 'pass', 'raise', 'return', 'try', 'while', 'with', 'yield']\n"
          ]
        }
      ]
    },
    {
      "cell_type": "code",
      "source": [
        "# 4.Check if a Word is a Python Keyword\n",
        "\n",
        "import keyword\n",
        "\n",
        "word = input(\"Enter word: \")\n",
        "if keyword.iskeyword(word):\n",
        "\n",
        "  print(f\"'{word}' is a Python keyword.\")\n",
        "else:\n",
        "\n",
        "  print(f\"'{word}' is not a Python keyword.\")\n"
      ],
      "metadata": {
        "colab": {
          "base_uri": "https://localhost:8080/"
        },
        "id": "901Gs6usMRGb",
        "outputId": "e7da322d-d848-4ae7-ed6d-aaf87f01fb05"
      },
      "execution_count": 9,
      "outputs": [
        {
          "output_type": "stream",
          "name": "stdout",
          "text": [
            "Enter word: class\n",
            "'class' is a Python keyword.\n"
          ]
        }
      ]
    },
    {
      "cell_type": "code",
      "source": [
        "# 5. List vs. Tuple: Demonstrating Mutability\n",
        "\n",
        "# Create a list and a tuple\n",
        "my_list = [1, 2, 3]\n",
        "my_tuple = (1, 2, 3)\n",
        "\n",
        "# list\n",
        "my_list[0] = 99\n",
        "print(\"Modified list:\", my_list)\n",
        "\n",
        "# tuple modification\n",
        "try:\n",
        "    my_tuple[0] = 99\n",
        "except TypeError as e:\n",
        "    print(\"Error:\", e)\n",
        "\n"
      ],
      "metadata": {
        "colab": {
          "base_uri": "https://localhost:8080/"
        },
        "id": "EFFmIsjZNCDc",
        "outputId": "d0daa176-032d-4859-bc68-ae7029950268"
      },
      "execution_count": 10,
      "outputs": [
        {
          "output_type": "stream",
          "name": "stdout",
          "text": [
            "Modified list: [99, 2, 3]\n",
            "Error: 'tuple' object does not support item assignment\n"
          ]
        }
      ]
    },
    {
      "cell_type": "code",
      "source": [
        " # 6. Mutable vs. Immutable Arguments in Functions\n",
        "\n",
        "def modify_elements(mutable, immutable):\n",
        "  mutable.append(4)\n",
        "  immutable += \" World\"\n",
        "\n",
        "# Test the function\n",
        "my_list = [1, 2, 3]  # Mutable\n",
        "my_string = \"Hello\"  # Immutable\n",
        "\n",
        "modify_elements(my_list, my_string)\n",
        "print(\"After function call:\")\n",
        "print(\"List (mutable):\", my_list)\n",
        "print(\"String (immutable):\", my_string)\n",
        "\n"
      ],
      "metadata": {
        "colab": {
          "base_uri": "https://localhost:8080/"
        },
        "id": "ifwIuiqtOEsb",
        "outputId": "f7f12cfe-149f-4d16-a689-9132f37be911"
      },
      "execution_count": 11,
      "outputs": [
        {
          "output_type": "stream",
          "name": "stdout",
          "text": [
            "After function call:\n",
            "List (mutable): [1, 2, 3, 4]\n",
            "String (immutable): Hello\n"
          ]
        }
      ]
    },
    {
      "cell_type": "code",
      "source": [
        "# 6. Logical Operators Demonstration\n",
        "\n",
        "x = 10\n",
        "y = 20\n",
        "\n",
        "# Logical AND\n",
        "print(x > 5 and y > 15)\n",
        "\n",
        "# Logical OR\n",
        "print(x > 15 or y > 15)\n",
        "\n",
        "# Logical NOT\n",
        "print(not (x > 15))\n"
      ],
      "metadata": {
        "colab": {
          "base_uri": "https://localhost:8080/"
        },
        "id": "MmYXTgQzO3tr",
        "outputId": "6bc72044-ec49-4438-a792-556e33323386"
      },
      "execution_count": 12,
      "outputs": [
        {
          "output_type": "stream",
          "name": "stdout",
          "text": [
            "True\n",
            "True\n",
            "True\n"
          ]
        }
      ]
    },
    {
      "cell_type": "code",
      "source": [
        "# 8. Convert User Input to Integer, Float, and Boolean\n",
        "\n",
        "user_input = input(\"Enter a value: \")\n",
        "int_value = int(user_input)\n",
        "float_value = float(user_input)\n",
        "boolean_value = bool(user_input)\n",
        "\n",
        "print(\"Integer:\", integer_value)\n",
        "print(\"Float:\", float_value)\n",
        "print(\"Boolean:\", boolean_value)\n"
      ],
      "metadata": {
        "colab": {
          "base_uri": "https://localhost:8080/"
        },
        "id": "maaNJ0cKOEqC",
        "outputId": "49c43786-aeb7-45be-f383-1ac539e2ffaf"
      },
      "execution_count": 17,
      "outputs": [
        {
          "output_type": "stream",
          "name": "stdout",
          "text": [
            "Enter a value: 8\n",
            "Integer: 4\n",
            "Float: 8.0\n",
            "Boolean: True\n"
          ]
        }
      ]
    },
    {
      "cell_type": "code",
      "source": [
        "# 9. Type Casting with List Elements\n",
        "\n",
        "numbers = [\"1\", \"2\", \"3\", \"4\"]\n",
        "\n",
        "# Convert strings to integers\n",
        "numbers = [int(num) for num in numbers]\n",
        "print(\"List of int:\", numbers)\n",
        "\n",
        "# Convert integers to strings\n",
        "numbers = [str(num) for num in numbers]\n",
        "print(\"List of strings:\", numbers)\n"
      ],
      "metadata": {
        "colab": {
          "base_uri": "https://localhost:8080/"
        },
        "id": "qY0v8tZbP6J5",
        "outputId": "07ae6f97-4fd8-47ac-bc6a-8c0592ddf285"
      },
      "execution_count": 18,
      "outputs": [
        {
          "output_type": "stream",
          "name": "stdout",
          "text": [
            "List of int: [1, 2, 3, 4]\n",
            "List of strings: ['1', '2', '3', '4']\n"
          ]
        }
      ]
    },
    {
      "cell_type": "code",
      "source": [
        "# 10. Check if a Number is Positive, Negative, or Zero\n",
        "\n",
        "number = float(input(\"Enter a number: \"))\n",
        "\n",
        "if number > 0:\n",
        "    print(\"The number is positive.\")\n",
        "elif number < 0:\n",
        "    print(\"The number is negative.\")\n",
        "else:\n",
        "    print(\"The number is zero.\")\n"
      ],
      "metadata": {
        "colab": {
          "base_uri": "https://localhost:8080/"
        },
        "id": "u45AgP2iQUtk",
        "outputId": "83fe60e3-afee-465b-a470-8354569392f1"
      },
      "execution_count": 21,
      "outputs": [
        {
          "output_type": "stream",
          "name": "stdout",
          "text": [
            "Enter a number: 6\n",
            "The number is positive.\n"
          ]
        }
      ]
    },
    {
      "cell_type": "code",
      "source": [
        "# 11.For Loop to Print Numbers from 1 to 10\n",
        "\n",
        "for i in range(1, 11):\n",
        "    print(i)"
      ],
      "metadata": {
        "colab": {
          "base_uri": "https://localhost:8080/"
        },
        "id": "KzMW8fVrQb_c",
        "outputId": "3266a8f1-7be2-4e0f-82b1-eef347408e07"
      },
      "execution_count": 22,
      "outputs": [
        {
          "output_type": "stream",
          "name": "stdout",
          "text": [
            "1\n",
            "2\n",
            "3\n",
            "4\n",
            "5\n",
            "6\n",
            "7\n",
            "8\n",
            "9\n",
            "10\n"
          ]
        }
      ]
    },
    {
      "cell_type": "code",
      "source": [
        "# 12. Sum of All Even Numbers Between 1 and 50\n",
        "\n",
        "sum_even = sum(num for num in range(1, 51) if num % 2 == 0)\n",
        "print(\"Sum of all even numbers between 1 and 50 is:\", sum_even)\n"
      ],
      "metadata": {
        "colab": {
          "base_uri": "https://localhost:8080/"
        },
        "id": "HZVHg2m4Q43u",
        "outputId": "ea247db2-9f99-4723-8398-84eac8d067d7"
      },
      "execution_count": 23,
      "outputs": [
        {
          "output_type": "stream",
          "name": "stdout",
          "text": [
            "Sum of all even numbers between 1 and 50 is: 650\n"
          ]
        }
      ]
    },
    {
      "cell_type": "code",
      "source": [
        "# 13. Reverse a String Using a While Loop\n",
        "\n",
        "string = input(\"Enter a string: \")\n",
        "reversed_string = \"\"\n",
        "i = len(string) - 1\n",
        "\n",
        "while i >= 0:\n",
        "  reversed_string += string[i]\n",
        "  i -= 1\n",
        "\n",
        "print(\"Reversed string:\", reversed_string)\n"
      ],
      "metadata": {
        "colab": {
          "base_uri": "https://localhost:8080/"
        },
        "id": "yIjdgGwoROUl",
        "outputId": "ebcaa257-8e66-4c9c-c34b-11dcc5adf89c"
      },
      "execution_count": 24,
      "outputs": [
        {
          "output_type": "stream",
          "name": "stdout",
          "text": [
            "Enter a string: sneha\n",
            "Reversed string: ahens\n"
          ]
        }
      ]
    },
    {
      "cell_type": "code",
      "source": [
        "# 14. Calculate Factorial Using a While Loop\n",
        "\n",
        "number = int(input(\"Enter a number: \"))\n",
        "factorial = 1\n",
        "i = number\n",
        "\n",
        "while i > 0:\n",
        "  factorial *= i\n",
        "  i -= 1\n",
        "\n",
        "print(f\"Factorial of {number} is:\", factorial)\n",
        "\n"
      ],
      "metadata": {
        "colab": {
          "base_uri": "https://localhost:8080/"
        },
        "id": "1hz9jqtURjLy",
        "outputId": "1cf87484-92ab-411e-ca8f-a81eca342fab"
      },
      "execution_count": 26,
      "outputs": [
        {
          "output_type": "stream",
          "name": "stdout",
          "text": [
            "Enter a number: 7\n",
            "Factorial of 7 is: 5040\n"
          ]
        }
      ]
    },
    {
      "cell_type": "code",
      "source": [],
      "metadata": {
        "id": "6wvVvQqJR4z6"
      },
      "execution_count": null,
      "outputs": []
    }
  ]
}